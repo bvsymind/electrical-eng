{
 "cells": [
  {
   "cell_type": "code",
   "execution_count": null,
   "metadata": {},
   "outputs": [],
   "source": [
    "#boolean\n",
    "\n",
    "a = True\n",
    "\n",
    "print(a)\n",
    "\n"
   ]
  },
  {
   "cell_type": "code",
   "execution_count": null,
   "metadata": {},
   "outputs": [],
   "source": [
    "#string\n",
    "\n",
    "b = \"Guido Van Rossum\"\n",
    "\n",
    "print(b)\n",
    "\n",
    "print(type(b))"
   ]
  },
  {
   "cell_type": "code",
   "execution_count": null,
   "metadata": {},
   "outputs": [],
   "source": [
    "c = 55\n",
    "\n",
    "print(c)\n",
    "\n",
    "print(type(c))"
   ]
  },
  {
   "cell_type": "code",
   "execution_count": null,
   "metadata": {},
   "outputs": [],
   "source": [
    "\n",
    "e = 3.14\n",
    "f = -1.62\n",
    "\n",
    "print(e)\n",
    "print(f)\n",
    "\n",
    "print(type(e), type (f))"
   ]
  },
  {
   "cell_type": "code",
   "execution_count": null,
   "metadata": {},
   "outputs": [],
   "source": [
    "#hexadecimal\n",
    "g = 1023\n",
    "h = 255\n",
    "\n",
    "print(hex(g))\n",
    "print(hex(h))\n",
    "print(type(g), type(h))"
   ]
  },
  {
   "cell_type": "code",
   "execution_count": null,
   "metadata": {},
   "outputs": [],
   "source": [
    "#complex\n",
    "i = 22j\n",
    "\n",
    "print(i)\n",
    "print(type(i))\n",
    "\n"
   ]
  },
  {
   "cell_type": "code",
   "execution_count": null,
   "metadata": {},
   "outputs": [],
   "source": [
    "#list\n",
    "\n",
    "j = [\"mobil\", \"motor\", \"kereta\", \"kapal\"]\n",
    "print(j[1])\n",
    "print(type(j))"
   ]
  },
  {
   "cell_type": "code",
   "execution_count": null,
   "metadata": {},
   "outputs": [],
   "source": [
    "#tuple\n",
    "k = (\"phi\", 6.55, 7j)\n",
    "print(k[0])\n",
    "print(type(k))\n"
   ]
  },
  {
   "cell_type": "code",
   "execution_count": null,
   "metadata": {},
   "outputs": [],
   "source": [
    "#dictionary\n",
    "l = {\"Mata kuliah\" : \"Praktikum Algoritma dan Pemrograman\", \"Kelas\" : \"D\"}\n",
    "print(l[\"Mata kuliah\"])\n",
    "print(type(l))"
   ]
  },
  {
   "cell_type": "code",
   "execution_count": null,
   "metadata": {},
   "outputs": [],
   "source": [
    "#random\n",
    "from random import randint as r\n",
    "\n",
    "l = r(0, 255)\n",
    "print(l)"
   ]
  },
  {
   "cell_type": "code",
   "execution_count": 5,
   "metadata": {},
   "outputs": [
    {
     "name": "stdout",
     "output_type": "stream",
     "text": [
      "<class 'int'>\n",
      "<class 'int'>\n",
      "<class 'int'>\n",
      "10.0\n",
      "32\n",
      "(89+0j)\n",
      "<class 'float'>\n",
      "<class 'str'>\n",
      "<class 'complex'>\n"
     ]
    }
   ],
   "source": [
    "#conversion\n",
    "m = 10\n",
    "n = 32\n",
    "o = 89\n",
    "\n",
    "print(type(m))\n",
    "print(type(n))\n",
    "print(type(o))\n",
    "\n",
    "m_float = float(m)\n",
    "n_str = str(n)\n",
    "o_complex = complex(o)\n",
    "\n",
    "print(m_float)\n",
    "print(n_str)\n",
    "print(o_complex)\n",
    "\n",
    "print(type(m_float))\n",
    "print(type(n_str))\n",
    "print(type(o_complex))\n"
   ]
  },
  {
   "cell_type": "code",
   "execution_count": 9,
   "metadata": {},
   "outputs": [
    {
     "name": "stdout",
     "output_type": "stream",
     "text": [
      "benar\n",
      "benar1\n",
      "benar2\n",
      "benar3\n",
      "benar4\n",
      "benar5\n"
     ]
    }
   ],
   "source": [
    "#Python Variable\n",
    "\n",
    "varbenar = \"benar\"\n",
    "var_benar = \"benar1\"\n",
    "_var_benar = \"benar2\"\n",
    "varBenar = \"benar3\"\n",
    "VARBENAR = \"benar4\"\n",
    "varbenar5 = \"benar5\"\n",
    "\n",
    "print(varbenar)\n",
    "print(var_benar)\n",
    "print(_var_benar)\n",
    "print(varBenar)\n",
    "print(VARBENAR)\n",
    "print(varbenar5)\n"
   ]
  },
  {
   "cell_type": "code",
   "execution_count": 19,
   "metadata": {},
   "outputs": [
    {
     "name": "stdout",
     "output_type": "stream",
     "text": [
      "(,) Teknik Elektro Undip mempunyai konsentrasi arus kuat dan arus lemah\n",
      "(+) Teknik Elektro Undip mempunyai konsentrasi arus kuat dan arus lemah\n"
     ]
    }
   ],
   "source": [
    "#combine text and variable\n",
    "p = \"arus kuat\"\n",
    "q = \"arus lemah\"\n",
    "\n",
    "#menggunakan (,)\n",
    "print(\"(,) Teknik Elektro Undip mempunyai konsentrasi\", p, \"dan\", q)\n",
    "#menggunakan (+)\n",
    "print(\"(+) Teknik Elektro Undip mempunyai konsentrasi \" + p + \" dan \" + q)"
   ]
  },
  {
   "cell_type": "code",
   "execution_count": 21,
   "metadata": {},
   "outputs": [
    {
     "name": "stdout",
     "output_type": "stream",
     "text": [
      "Python adalah interpreted language\n",
      "C adalah compiled language\n"
     ]
    }
   ],
   "source": [
    "#Global Varibel\n",
    "r = \"compiled language\"\n",
    "\n",
    "def myfunction():\n",
    "    r = \"interpreted language\"\n",
    "    print(\"Python adalah\", r)\n",
    "\n",
    "myfunction()\n",
    "print(\"C adalah\", r)"
   ]
  },
  {
   "cell_type": "code",
   "execution_count": 23,
   "metadata": {},
   "outputs": [
    {
     "name": "stdout",
     "output_type": "stream",
     "text": [
      "hobiku adalah membaca buku\n"
     ]
    }
   ],
   "source": [
    "#global keyword\n",
    "\n",
    "s = \"mendengarkan musik\"\n",
    "\n",
    "def func():\n",
    "    global s\n",
    "    s = \"membaca buku\"\n",
    "\n",
    "func()\n",
    "print(\"hobiku adalah\", s)"
   ]
  },
  {
   "cell_type": "code",
   "execution_count": 24,
   "metadata": {},
   "outputs": [
    {
     "name": "stdout",
     "output_type": "stream",
     "text": [
      "sawi\n",
      "bayam\n",
      "brokoli\n"
     ]
    }
   ],
   "source": [
    "#variabel ganda\n",
    "t, u, v = \"sawi\", \"bayam\", \"brokoli\"\n",
    "\n",
    "print(t)\n",
    "print(u)\n",
    "print(v)"
   ]
  },
  {
   "cell_type": "code",
   "execution_count": 38,
   "metadata": {},
   "outputs": [
    {
     "name": "stdout",
     "output_type": "stream",
     "text": [
      "150 + 25 = 175\n",
      "13 - 7 = 6\n",
      "150 x 7 = 1050\n",
      "150 / 25 = 6.0\n",
      "25 % 13 = 12\n",
      "13 ^ 7 = 62748517\n",
      "21.428571428571427 dibulatkan menjadi 21\n"
     ]
    }
   ],
   "source": [
    "#operator aritmatika\n",
    "\n",
    "w, x, y, z = 150, 25, 13, 7\n",
    "\n",
    "#penjumlahan\n",
    "print(w, \"+\", x, \"=\", w+x)\n",
    "#pengurangan\n",
    "print(y, \"-\", z, \"=\", y-z)\n",
    "#perkalian\n",
    "print(w, \"x\", z, \"=\", w*z)\n",
    "#pembagian\n",
    "print(w, \"/\", x, \"=\", w/x)\n",
    "#modulus\n",
    "print(x, \"%\", y, \"=\", x%y)\n",
    "#perpangkatan\n",
    "print(y, \"^\", z, \"=\", y**z)\n",
    "#pembagian bulat\n",
    "print(w/z, \"dibulatkan menjadi\", w//z)"
   ]
  },
  {
   "cell_type": "code",
   "execution_count": 48,
   "metadata": {},
   "outputs": [
    {
     "name": "stdout",
     "output_type": "stream",
     "text": [
      "True\n",
      "False\n",
      "True\n",
      "True\n",
      "False\n",
      "True\n"
     ]
    }
   ],
   "source": [
    "#operator perbandingan\n",
    "\n",
    "#sama dengan\n",
    "print(20 == 20)\n",
    "#tidak sama dengan\n",
    "print(34 != 34)\n",
    "#lebih kecil dari\n",
    "print(24 < 25)\n",
    "#lebih besar dari\n",
    "print(77 > 44)\n",
    "#lebih kecil atau sama dengan\n",
    "print(7<=5)\n",
    "#lebih besar atau sama dengan\n",
    "print(19>=19)\n"
   ]
  },
  {
   "cell_type": "code",
   "execution_count": 58,
   "metadata": {},
   "outputs": [
    {
     "name": "stdout",
     "output_type": "stream",
     "text": [
      "2\n",
      "50\n",
      "48\n",
      "96\n",
      "12.0\n",
      "2.0\n",
      "8.0\n"
     ]
    }
   ],
   "source": [
    "#operator penugasan\n",
    "z = 2\n",
    "a = z       #sama dengan\n",
    "print(a)\n",
    "b = 48\n",
    "b += a      #tambah sama dengan\n",
    "print(b)\n",
    "b -= 2      #kurang sama dengan\n",
    "print(b)\n",
    "b *= a      #kali sama dengan\n",
    "print(b)\n",
    "b /= 8      #bagi sama dengan\n",
    "print(b)\n",
    "b %= 5      #sisa bagi sama dengan\n",
    "print(b)\n",
    "b **= 3     #pangkat sama dengan\n",
    "print(b)\n",
    "b //= 3     #pembagian bulat sama dengan\n"
   ]
  },
  {
   "cell_type": "code",
   "execution_count": 67,
   "metadata": {},
   "outputs": [
    {
     "name": "stdout",
     "output_type": "stream",
     "text": [
      "====AND====\n",
      "True\n",
      "False\n",
      "0\n",
      "====OR====\n",
      "False\n",
      "True\n",
      "1\n",
      "====NOT====\n",
      "True\n",
      "False\n",
      "False\n"
     ]
    }
   ],
   "source": [
    "#operator logika\n",
    "bit, nibble, byte = 1, 4, 8\n",
    "\n",
    "print(\"====AND====\")\n",
    "print(byte > nibble and nibble > bit)\n",
    "print(nibble == byte and nibble == 4)\n",
    "print(1 and 0)\n",
    "print(\"====OR====\")\n",
    "print(byte < nibble or bit > byte)\n",
    "print(nibble > bit or bit > nibble)\n",
    "print(0 or 1)\n",
    "print(\"====NOT====\")\n",
    "print(not(byte < nibble or bit > byte))\n",
    "print(not(nibble > bit or bit > nibble))\n",
    "print(not(0 or 1))"
   ]
  },
  {
   "cell_type": "code",
   "execution_count": 87,
   "metadata": {},
   "outputs": [
    {
     "name": "stdout",
     "output_type": "stream",
     "text": [
      "bitwise operator AND (&)\n",
      "1101\n",
      "1111\n",
      "------AND\n",
      "1101\n"
     ]
    }
   ],
   "source": [
    "#bitwise operator\n",
    "a = 13\n",
    "b = 0xF\n",
    "print(\"bitwise operator AND (&)\")\n",
    "print(format(a, \"04b\"))\n",
    "print(format(b, \"04b\"))\n",
    "print(\"------AND\")\n",
    "print(format(a & b, \"04b\"))"
   ]
  },
  {
   "cell_type": "code",
   "execution_count": 90,
   "metadata": {},
   "outputs": [
    {
     "name": "stdout",
     "output_type": "stream",
     "text": [
      "bitwise operator OR (|)\n",
      "1101\n",
      "1111\n",
      "------OR\n",
      "1111\n"
     ]
    }
   ],
   "source": [
    "print(\"bitwise operator OR (|)\")\n",
    "print(format(a, \"04b\"))\n",
    "print(format(b, \"04b\"))\n",
    "print(\"------OR\")\n",
    "print(format(a | b, \"04b\"))"
   ]
  },
  {
   "cell_type": "code",
   "execution_count": 91,
   "metadata": {},
   "outputs": [
    {
     "name": "stdout",
     "output_type": "stream",
     "text": [
      "bitwise operator XOR (^)\n",
      "1101\n",
      "1111\n",
      "------XOR\n",
      "0010\n"
     ]
    }
   ],
   "source": [
    "print(\"bitwise operator XOR (^)\")\n",
    "print(format(a, \"04b\"))\n",
    "print(format(b, \"04b\"))\n",
    "print(\"------XOR\")\n",
    "print(format(a ^ b, \"04b\"))"
   ]
  },
  {
   "cell_type": "code",
   "execution_count": 111,
   "metadata": {},
   "outputs": [
    {
     "name": "stdout",
     "output_type": "stream",
     "text": [
      "bitwise operator shifting right (>>)\n",
      "13 \t= 00001101\n",
      "6 \t= 00000110\n"
     ]
    }
   ],
   "source": [
    "print(\"bitwise operator shifting right (>>)\")\n",
    "print(a, \"\\t=\", format (a, \"08b\"))\n",
    "a_shift_right = a >> 1\n",
    "print(a_shift_right, \"\\t=\", format(a_shift_right, \"08b\"))"
   ]
  },
  {
   "cell_type": "code",
   "execution_count": 110,
   "metadata": {},
   "outputs": [
    {
     "name": "stdout",
     "output_type": "stream",
     "text": [
      "bitwise operator shifting left (<<)\n",
      "13 \t= 00001101\n",
      "26 \t= 00011010\n"
     ]
    }
   ],
   "source": [
    "print(\"bitwise operator shifting left (<<)\")\n",
    "print(a, \"\\t=\", format (a, \"08b\"))\n",
    "a_shift_left = a << 1\n",
    "print(a_shift_left, \"\\t=\", format(a_shift_left, \"08b\"))"
   ]
  },
  {
   "cell_type": "code",
   "execution_count": 112,
   "metadata": {},
   "outputs": [
    {
     "name": "stdout",
     "output_type": "stream",
     "text": [
      "bitwise operator NOT (~)\n",
      "13 \t= 00001101\n",
      "-14 \t= -0001110\n"
     ]
    }
   ],
   "source": [
    "print(\"bitwise operator NOT (~)\")\n",
    "print(a, \"\\t=\", format (a, \"08b\"))\n",
    "a_not = ~a\n",
    "print(a_not, \"\\t=\", format(a_not, \"08b\"))"
   ]
  },
  {
   "cell_type": "code",
   "execution_count": 116,
   "metadata": {},
   "outputs": [
    {
     "name": "stdout",
     "output_type": "stream",
     "text": [
      "True\n",
      "False\n",
      "False\n",
      "True\n"
     ]
    }
   ],
   "source": [
    "#membership operator\n",
    "mobil = [\"Volvo\", \"Hyundai\", \"Toyota\"]\n",
    "print(\"Volvo\" in mobil)\n",
    "print(\"Honda\" in mobil)\n",
    "print(\"Hyundai\" not in mobil)\n",
    "print(\"Mitsubishi\" not in mobil)"
   ]
  },
  {
   "cell_type": "code",
   "execution_count": 122,
   "metadata": {},
   "outputs": [
    {
     "name": "stdout",
     "output_type": "stream",
     "text": [
      "True\n",
      "False\n",
      "True\n"
     ]
    }
   ],
   "source": [
    "x = \"111\"\n",
    "y = \"111\"\n",
    "z = \"212\"\n",
    "\n",
    "print(x is y)\n",
    "print(y is z)\n",
    "print(x is not z)"
   ]
  },
  {
   "cell_type": "code",
   "execution_count": 121,
   "metadata": {},
   "outputs": [
    {
     "name": "stdout",
     "output_type": "stream",
     "text": [
      "True\n",
      "False\n"
     ]
    }
   ],
   "source": []
  }
 ],
 "metadata": {
  "kernelspec": {
   "display_name": "Python 3",
   "language": "python",
   "name": "python3"
  },
  "language_info": {
   "codemirror_mode": {
    "name": "ipython",
    "version": 3
   },
   "file_extension": ".py",
   "mimetype": "text/x-python",
   "name": "python",
   "nbconvert_exporter": "python",
   "pygments_lexer": "ipython3",
   "version": "3.10.9"
  },
  "orig_nbformat": 4,
  "vscode": {
   "interpreter": {
    "hash": "e7370f93d1d0cde622a1f8e1c04877d8463912d04d973331ad4851f04de6915a"
   }
  }
 },
 "nbformat": 4,
 "nbformat_minor": 2
}
